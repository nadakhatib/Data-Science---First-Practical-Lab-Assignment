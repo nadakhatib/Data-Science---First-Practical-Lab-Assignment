{
  "nbformat": 4,
  "nbformat_minor": 0,
  "metadata": {
    "colab": {
      "provenance": [],
      "include_colab_link": true
    },
    "kernelspec": {
      "name": "python3",
      "display_name": "Python 3"
    },
    "language_info": {
      "name": "python"
    }
  },
  "cells": [
    {
      "cell_type": "markdown",
      "metadata": {
        "id": "view-in-github",
        "colab_type": "text"
      },
      "source": [
        "<a href=\"https://colab.research.google.com/github/nadakhatib/Data-Science---First-Practical-Lab-Assignment/blob/main/Python_Exercises_.ipynb\" target=\"_parent\"><img src=\"https://colab.research.google.com/assets/colab-badge.svg\" alt=\"Open In Colab\"/></a>"
      ]
    },
    {
      "cell_type": "markdown",
      "metadata": {
        "id": "wOs8Pq2hRP-f"
      },
      "source": [
        "# **1. Strings**\n",
        "\n",
        "**1.1 Define the string \"Problem\"**\n",
        "\n",
        "\n"
      ]
    },
    {
      "cell_type": "code",
      "source": [
        "# 1.1\n",
        "s1 = \"Problem\"\n",
        "print(s1)"
      ],
      "metadata": {
        "id": "zjSDM4bnc3NB"
      },
      "execution_count": null,
      "outputs": []
    },
    {
      "cell_type": "markdown",
      "metadata": {
        "id": "UBCxkx0QSSkx"
      },
      "source": [
        "1.2 **Two strings \"Problem\" and \"Solving with Python\". Combine these strings to produce \"Problem Solving with Python\". Hint: Don't forget the space.**"
      ]
    },
    {
      "cell_type": "code",
      "source": [
        "# 1.2\n",
        "s1 = \"Problem\"\n",
        "s2 = \"Solving with Python\"\n",
        "combined = s1 + \" \" + s2\n",
        "print(combined)   # Output: Problem Solving with Python"
      ],
      "metadata": {
        "id": "QETPZ1Xmc6fq"
      },
      "execution_count": null,
      "outputs": []
    },
    {
      "cell_type": "markdown",
      "metadata": {
        "id": "U4a9-yKPSatn"
      },
      "source": [
        "**1.3 Compare the strings \"Problem\" and \"problem\" with the comparison operator ==. Explain the result.**"
      ]
    },
    {
      "cell_type": "code",
      "source": [
        "# 1.3\n",
        "print(\"Problem\" == \"problem\")\n",
        "# False, because Python is case-sensitive (\"P\" ≠ \"p\")"
      ],
      "metadata": {
        "id": "g4uXDCbEc80L"
      },
      "execution_count": null,
      "outputs": []
    },
    {
      "cell_type": "markdown",
      "metadata": {
        "id": "RyXyvyQBSk3b"
      },
      "source": [
        "**1.4 Compare the output of the code 1 + 2 == 3 and '1 + 2' == '3'. Explain why the output is different.**"
      ]
    },
    {
      "cell_type": "code",
      "source": [
        "# 1.4\n",
        "print(1 + 2 == 3)         # True, because 1+2 equals 3 (numeric comparison)\n",
        "print('1 + 2' == '3')     # False, because strings '1 + 2' and '3' are different"
      ],
      "metadata": {
        "id": "h8bF517-c-_T"
      },
      "execution_count": null,
      "outputs": []
    },
    {
      "cell_type": "markdown",
      "metadata": {
        "id": "y0BLuSuwStmR"
      },
      "source": [
        "\n",
        "\n",
        "---\n",
        "\n"
      ]
    },
    {
      "cell_type": "markdown",
      "metadata": {
        "id": "ab0KyRPiSyJf"
      },
      "source": [
        "# **2.Variables in Calculations**"
      ]
    },
    {
      "cell_type": "markdown",
      "metadata": {
        "id": "G1TMHnhKTThk"
      },
      "source": [
        "**2.1 The area of a circle,\n",
        "$a$, is dependent on the circle's radius, $r$, according to:**\n",
        "$$a = πr^2$$\n",
        "**What is the area of a circle with radius $r = 4$ ?**"
      ]
    },
    {
      "cell_type": "code",
      "source": [
        "# 2.1 Area of a circle\n",
        "import math\n",
        "\n",
        "r = 4\n",
        "area = math.pi * (r ** 2)\n",
        "print(\"Area of the circle =\", area)"
      ],
      "metadata": {
        "id": "G85ju1AJeEzt"
      },
      "execution_count": null,
      "outputs": []
    },
    {
      "cell_type": "markdown",
      "metadata": {
        "id": "kDwKgxGrUH7o"
      },
      "source": [
        "**2.2 The volume of a sphere, $v$, is dependent on the sphere's radius, $r$,according to:**\n",
        "\n",
        "$$v= (4/3)πr^3$$\n",
        "\n",
        "**What is the volume of a sphere with radius $r=1.5$?**"
      ]
    },
    {
      "cell_type": "code",
      "source": [
        "# 2.2 Volume of a sphere\n",
        "r = 1.5\n",
        "volume = (4/3) * math.pi * (r ** 3)\n",
        "print(\"Volume of the sphere =\", volume)"
      ],
      "metadata": {
        "id": "VOzhsr1reIpu"
      },
      "execution_count": null,
      "outputs": []
    },
    {
      "cell_type": "markdown",
      "metadata": {
        "id": "IlPjyR19V7g3"
      },
      "source": [
        "\n",
        "\n",
        "---\n",
        "\n"
      ]
    },
    {
      "cell_type": "markdown",
      "metadata": {
        "id": "5zsAMcgfVHN4"
      },
      "source": [
        "# **3. Determine the Data Type**"
      ]
    },
    {
      "cell_type": "markdown",
      "metadata": {
        "id": "rbm455iNV6xj"
      },
      "source": [
        "**3.1 Find the Data Type for the following:**\n",
        "1. a if a=9\n",
        "1. a if a=9.\n",
        "2. a if a='9.'\n",
        "3. a if a=(9)\n",
        "4. a if a=False\n",
        "5. a if a=[1,2,3]\n",
        "6. a if a=(1,2,3)\n",
        "7. a if a={'key': 9}\n",
        "8. a if a=1 + 9j"
      ]
    },
    {
      "cell_type": "code",
      "source": [
        "# 3.1 Determine data types\n",
        "\n",
        "a = 9\n",
        "print(a, \"is of type\", type(a))   # int\n",
        "\n",
        "a = 9.\n",
        "print(a, \"is of type\", type(a))   # float\n",
        "\n",
        "a = '9.'\n",
        "print(a, \"is of type\", type(a))   # str\n",
        "\n",
        "a = (9)\n",
        "print(a, \"is of type\", type(a))   # int  (parentheses around single value do not make it a tuple)\n",
        "\n",
        "a = False\n",
        "print(a, \"is of type\", type(a))   # bool\n",
        "\n",
        "a = [1,2,3]\n",
        "print(a, \"is of type\", type(a))   # list\n",
        "\n",
        "a = (1,2,3)\n",
        "print(a, \"is of type\", type(a))   # tuple\n",
        "\n",
        "a = {'key': 9}\n",
        "print(a, \"is of type\", type(a))   # dict\n",
        "\n",
        "a = 1 + 9j\n",
        "print(a, \"is of type\", type(a))   # complex"
      ],
      "metadata": {
        "id": "j8G-Tj8ReNsO"
      },
      "execution_count": null,
      "outputs": []
    },
    {
      "cell_type": "markdown",
      "metadata": {
        "id": "Qs5kH51sYl_L"
      },
      "source": [
        "\n",
        "\n",
        "---\n",
        "\n",
        "\n"
      ]
    },
    {
      "cell_type": "markdown",
      "metadata": {
        "id": "2BvPK3IeWxzK"
      },
      "source": [
        "# **4. Lists**"
      ]
    },
    {
      "cell_type": "markdown",
      "metadata": {
        "id": "KkZVZ-N_YBv6"
      },
      "source": [
        "**4.1 Create a list that contains the words : Problem, Solving, With, Python.**\n"
      ]
    },
    {
      "cell_type": "code",
      "source": [
        "words = [\"Problem\", \"Solving\", \"With\", \"Python\"]"
      ],
      "metadata": {
        "id": "ioClpKOUew0U"
      },
      "execution_count": null,
      "outputs": []
    },
    {
      "cell_type": "markdown",
      "metadata": {
        "id": "BFHiNFNuYWAY"
      },
      "source": [
        "**4.2 Print the above list as one statment.**"
      ]
    },
    {
      "cell_type": "code",
      "source": [
        "print(words)"
      ],
      "metadata": {
        "id": "HVWaLkRGezcd"
      },
      "execution_count": null,
      "outputs": []
    },
    {
      "cell_type": "markdown",
      "metadata": {
        "id": "4nc4QP5OYuAZ"
      },
      "source": [
        "**4.3 Create an empty list. Convert the empty list to a boolean with the `bool()` function.**"
      ]
    },
    {
      "cell_type": "code",
      "source": [
        "empty_list = []\n",
        "print(bool(empty_list))  # False"
      ],
      "metadata": {
        "id": "CZFu-XSre2U6"
      },
      "execution_count": null,
      "outputs": []
    },
    {
      "cell_type": "markdown",
      "metadata": {
        "id": "CzE3up44Y_7Q"
      },
      "source": [
        "**4.4 Create a list with the numbers 1 to 10 (counting by ones). Pull out the even numbers from the list.**"
      ]
    },
    {
      "cell_type": "code",
      "source": [
        "numbers = list(range(1, 11))\n",
        "even_numbers = [n for n in numbers if n % 2 == 0]\n",
        "print(even_numbers)"
      ],
      "metadata": {
        "id": "jQ4P1ApBe7LD"
      },
      "execution_count": null,
      "outputs": []
    },
    {
      "cell_type": "markdown",
      "metadata": {
        "id": "_Iy-KlFNYlZu"
      },
      "source": [
        "**4.5 Create a list with the numbers below 50 (counting by ones). Pull out the odd numbers from the list, in descending order.**"
      ]
    },
    {
      "cell_type": "code",
      "source": [
        "numbers_below_50 = list(range(50))\n",
        "odd_desc = sorted([n for n in numbers_below_50 if n % 2 != 0], reverse=True)\n",
        "print(odd_desc)"
      ],
      "metadata": {
        "id": "yctu0VQJe_Jf"
      },
      "execution_count": null,
      "outputs": []
    },
    {
      "cell_type": "markdown",
      "metadata": {
        "id": "Ok_e1L7-GbZA"
      },
      "source": [
        "**4.6 From given list:**\n",
        "\n",
        "**gadgets = [“Mobile”, “Laptop”, 100, “Camera”, 310.28, “Speakers”, 27.00,**\n",
        "**“Television”, 1000, “Laptop Case”, “Camera Lens”]**\n",
        "\n",
        "1. create separate lists of strings and numbers.\n",
        "2. Sort the strings list in ascending order\n",
        "3. Sort the strings list in descending order\n",
        ""
      ]
    },
    {
      "cell_type": "code",
      "source": [
        "gadgets = [\"Mobile\", \"Laptop\", 100, \"Camera\", 310.28, \"Speakers\", 27.00,\n",
        "           \"Television\", 1000, \"Laptop Case\", \"Camera Lens\"]\n",
        "\n",
        "strings_list = [item for item in gadgets if isinstance(item, str)]\n",
        "numbers_list = [item for item in gadgets if isinstance(item, (int, float))]\n",
        "\n",
        "# Sort strings\n",
        "ascending_strings = sorted(strings_list)\n",
        "descending_strings = sorted(strings_list, reverse=True)\n",
        "\n",
        "print(\"Strings Ascending:\", ascending_strings)\n",
        "print(\"Strings Descending:\", descending_strings)\n"
      ],
      "metadata": {
        "id": "OanxnaeGfC_E"
      },
      "execution_count": null,
      "outputs": []
    },
    {
      "cell_type": "markdown",
      "metadata": {
        "id": "a9YsRye2gXzL"
      },
      "source": [
        "**4.5 Create a list with words: $apple, banana, orange, peach$ . Pull out these fruits in uppercase with `.upper()` function**"
      ]
    },
    {
      "cell_type": "code",
      "source": [
        "fruits = [\"apple\", \"banana\", \"orange\", \"peach\"]\n",
        "fruits_upper = [fruit.upper() for fruit in fruits]\n",
        "print(fruits_upper)"
      ],
      "metadata": {
        "id": "DB4mDYGofGVz"
      },
      "execution_count": null,
      "outputs": []
    },
    {
      "cell_type": "markdown",
      "metadata": {
        "id": "u_rRRd-dbgiW"
      },
      "source": [
        "\n",
        "\n",
        "---\n",
        "\n"
      ]
    },
    {
      "cell_type": "markdown",
      "metadata": {
        "id": "i6ZozsOpbbPl"
      },
      "source": [
        "# **5. Tuples**"
      ]
    },
    {
      "cell_type": "markdown",
      "metadata": {
        "id": "17hWrw9Bbh_P"
      },
      "source": [
        "**5.1 Create a list and a tuple that both contains the strings: $one, two,three$.Pull the word $two$ out of both the list and the tuple.**\n",
        "\n",
        ""
      ]
    },
    {
      "cell_type": "code",
      "source": [
        "my_list = [\"one\", \"two\", \"three\"]\n",
        "my_tuple = (\"one\", \"two\", \"three\")\n",
        "\n",
        "print(my_list[1])\n",
        "print(my_tuple[1])"
      ],
      "metadata": {
        "id": "Hgl9zwjHfPS-"
      },
      "execution_count": null,
      "outputs": []
    },
    {
      "cell_type": "markdown",
      "metadata": {
        "id": "MZOyjdlMb9BL"
      },
      "source": [
        "**5.2 Create a list and a tuple that both contains the strings: $one, two, three$.Try to substitute the number $2$ for the word $two$ in both the list and tuple using indexing (square brackets).**"
      ]
    },
    {
      "cell_type": "code",
      "source": [
        "my_list[1] = 2\n",
        "print(my_list)\n",
        "\n",
        "# Tuples are immutable, this will give an error:\n",
        "# my_tuple[1] = 2  # Uncommenting will raise TypeError"
      ],
      "metadata": {
        "id": "jr_HAg0nfSs4"
      },
      "execution_count": null,
      "outputs": []
    },
    {
      "cell_type": "code",
      "source": [
        "# 5. Tuples\n",
        "\n",
        "# 5.1 Create a list and a tuple\n",
        "my_list = [\"one\", \"two\", \"three\"]\n",
        "my_tuple = (\"one\", \"two\", \"three\")\n",
        "\n",
        "# Access \"two\" from both\n",
        "print(\"List element:\", my_list[1])\n",
        "print(\"Tuple element:\", my_tuple[1])\n",
        "\n",
        "# 5.2 Substitute \"two\" with 2 in the list\n",
        "my_list[1] = 2\n",
        "print(\"Updated list:\", my_list)\n",
        "\n",
        "# Attempting the same for tuple will raise an error because tuples are immutable\n",
        "# my_tuple[1] = 2  # Uncommenting this line will raise TypeError"
      ],
      "metadata": {
        "colab": {
          "base_uri": "https://localhost:8080/"
        },
        "id": "66648b-9gGMn",
        "outputId": "ff2f69cc-8edc-4c5e-9ab8-b8e39e0986d6"
      },
      "execution_count": 13,
      "outputs": [
        {
          "output_type": "stream",
          "name": "stdout",
          "text": [
            "List element: two\n",
            "Tuple element: two\n",
            "Updated list: ['one', 2, 'three']\n"
          ]
        }
      ]
    },
    {
      "cell_type": "markdown",
      "metadata": {
        "id": "BvJtL3Gfcj2y"
      },
      "source": [
        "\n",
        "\n",
        "---\n",
        "\n"
      ]
    },
    {
      "cell_type": "markdown",
      "metadata": {
        "id": "u9EGHN4CcSTN"
      },
      "source": [
        "# **6. Dictionaries**"
      ]
    },
    {
      "cell_type": "markdown",
      "metadata": {
        "id": "KNACi6OqcjJ1"
      },
      "source": [
        "**6.1Create a list of dictionaries called Arabic countries, in which each dictionary contains the Arabic country and its capital and 3 cities together.**"
      ]
    },
    {
      "cell_type": "code",
      "source": [
        "arabic_countries = [\n",
        "    {\"country\": \"Egypt\", \"capital\": \"Cairo\", \"cities\": [\"Alexandria\", \"Giza\", \"Luxor\"]},\n",
        "    {\"country\": \"Saudi Arabia\", \"capital\": \"Riyadh\", \"cities\": [\"Jeddah\", \"Dammam\", \"Mecca\"]},\n",
        "    {\"country\": \"Jordan\", \"capital\": \"Amman\", \"cities\": [\"Zarqa\", \"Irbid\", \"Aqaba\"]}\n",
        "]"
      ],
      "metadata": {
        "id": "q5VemrTpfbwf"
      },
      "execution_count": null,
      "outputs": []
    },
    {
      "cell_type": "markdown",
      "metadata": {
        "id": "M98nWyHUejUO"
      },
      "source": [
        "**6.2 Print the Arabic Countries as a separate dictionaries .**"
      ]
    },
    {
      "cell_type": "code",
      "source": [
        "for country in arabic_countries:\n",
        "    print(country)"
      ],
      "metadata": {
        "id": "tiNUz86Wfe-b"
      },
      "execution_count": null,
      "outputs": []
    },
    {
      "cell_type": "markdown",
      "metadata": {
        "id": "Hk0qtqx1fR-m"
      },
      "source": [
        "**6.3 Create a dictionary colors = {'red':' #FF0000', 'green':'#008000', 'blue':'#0000FF'}. Pull out all the keys and add them to a list called colors_list with the `.keys()` function.**"
      ]
    },
    {
      "cell_type": "code",
      "source": [
        "colors = {'red': '#FF0000', 'green': '#008000', 'blue': '#0000FF'}\n",
        "colors_list = list(colors.keys())\n",
        "print(colors_list)"
      ],
      "metadata": {
        "id": "7ThBBz60fhu5"
      },
      "execution_count": null,
      "outputs": []
    },
    {
      "cell_type": "markdown",
      "metadata": {
        "id": "LYziSRX2fvSv"
      },
      "source": [
        "**6.4 Create a dictionary colors = {'red':' #FF0000', 'green':'#008000', 'blue':'#0000FF'}. Pull out all the values and add them to a list called colors_hex with the `.values()` function.**"
      ]
    },
    {
      "cell_type": "code",
      "source": [
        "colors_hex = list(colors.values())\n",
        "print(colors_hex)"
      ],
      "metadata": {
        "id": "mzq-jAtsfp-_"
      },
      "execution_count": null,
      "outputs": []
    },
    {
      "cell_type": "markdown",
      "metadata": {
        "id": "avXzHghOf_N1"
      },
      "source": [
        "**6.5 Create a dictionary colors = {'red':' #FF0000', 'green':'#008000', 'blue':'#0000FF'}. Pull out all the items from the dictionary and add them to a list called color_items with the `.items()` function.**"
      ]
    },
    {
      "cell_type": "code",
      "source": [
        "color_items = list(colors.items())\n",
        "print(color_items)"
      ],
      "metadata": {
        "id": "_iowsdXRgbqo"
      },
      "execution_count": null,
      "outputs": []
    },
    {
      "cell_type": "code",
      "source": [
        "6. Dictionaries\n",
        "6.1 List of Arabic countries\n",
        "arabic_countries = [\n",
        "    {\"country\": \"Egypt\", \"capital\": \"Cairo\", \"cities\": [\"Alexandria\", \"Giza\", \"Luxor\"]},\n",
        "    {\"country\": \"Saudi Arabia\", \"capital\": \"Riyadh\", \"cities\": [\"Jeddah\", \"Dammam\", \"Mecca\"]},\n",
        "    {\"country\": \"Jordan\", \"capital\": \"Amman\", \"cities\": [\"Zarqa\", \"Irbid\", \"Aqaba\"]}\n",
        "]\n",
        "\n",
        "6.2 Print each dictionary\n",
        "for country in arabic_countries:\n",
        "    print(country)\n",
        "\n",
        "6.3 Pull keys into a list\n",
        "colors = {'red': '#FF0000', 'green': '#008000', 'blue': '#0000FF'}\n",
        "colors_list = list(colors.keys())\n",
        "print(colors_list)\n",
        "\n",
        "6.4 Pull values into a list\n",
        "colors_hex = list(colors.values())\n",
        "print(colors_hex)\n",
        "\n",
        "6.5 Pull items into a list\n",
        "color_items = list(colors.items())"
      ],
      "metadata": {
        "id": "vp72Zw2OgiTt"
      },
      "execution_count": null,
      "outputs": []
    }
  ]
}